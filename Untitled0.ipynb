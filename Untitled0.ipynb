{
  "nbformat": 4,
  "nbformat_minor": 0,
  "metadata": {
    "colab": {
      "provenance": [],
      "authorship_tag": "ABX9TyO+DZcpmLef//QHq7OUUM81",
      "include_colab_link": true
    },
    "kernelspec": {
      "name": "python3",
      "display_name": "Python 3"
    },
    "language_info": {
      "name": "python"
    }
  },
  "cells": [
    {
      "cell_type": "markdown",
      "metadata": {
        "id": "view-in-github",
        "colab_type": "text"
      },
      "source": [
        "<a href=\"https://colab.research.google.com/github/PatiPat76/1842-html-validaciones-master/blob/main/Untitled0.ipynb\" target=\"_parent\"><img src=\"https://colab.research.google.com/assets/colab-badge.svg\" alt=\"Open In Colab\"/></a>"
      ]
    },
    {
      "cell_type": "code",
      "source": [
        "print('hola mundo')"
      ],
      "metadata": {
        "colab": {
          "base_uri": "https://localhost:8080/"
        },
        "id": "-davkt_3RY-t",
        "outputId": "5f6b31da-c848-4f61-a59c-4017d67e507f"
      },
      "execution_count": null,
      "outputs": [
        {
          "output_type": "stream",
          "name": "stdout",
          "text": [
            "hola mundo\n"
          ]
        }
      ]
    },
    {
      "cell_type": "code",
      "source": [
        "print('\"Escuela de Datos de Alura\"')\n",
        "print ('Nombre: patricia')\n",
        "\n",
        "print('P')\n",
        "print('A')"
      ],
      "metadata": {
        "colab": {
          "base_uri": "https://localhost:8080/"
        },
        "id": "Q0z4R60ZSXRM",
        "outputId": "ea0494bf-9f68-4807-a422-f563fda82a01"
      },
      "execution_count": null,
      "outputs": [
        {
          "output_type": "stream",
          "name": "stdout",
          "text": [
            "\"Escuela de Datos de Alura\"\n",
            "Nombre: patricia\n",
            "P\n",
            "A\n"
          ]
        }
      ]
    },
    {
      "cell_type": "code",
      "source": [
        "nombre = input('Ingrese su nombre: ')\n",
        "print(f'¡Hola, {nombre}!')"
      ],
      "metadata": {
        "id": "gdtLyHgUT6X-",
        "colab": {
          "base_uri": "https://localhost:8080/"
        },
        "outputId": "8688120a-b1f7-4120-f1c5-fc9d1bcb1346"
      },
      "execution_count": null,
      "outputs": [
        {
          "output_type": "stream",
          "name": "stdout",
          "text": [
            "Ingrese su nombre: lll\n",
            "¡Hola, lll!\n"
          ]
        }
      ]
    },
    {
      "cell_type": "code",
      "source": [
        "nombre = input('Ingrese su nombre: ')\n",
        "edad = int(input('Ingrese su edad: '))\n",
        "print(f'¡Hola, {nombre}, tienes {edad} años!')"
      ],
      "metadata": {
        "colab": {
          "base_uri": "https://localhost:8080/"
        },
        "id": "LNJQ_gd7MC0J",
        "outputId": "2c6bf41f-bd71-4a01-dd85-f0fd56922c1f"
      },
      "execution_count": null,
      "outputs": [
        {
          "output_type": "stream",
          "name": "stdout",
          "text": [
            "Ingrese su nombre: patto\n",
            "Ingrese su edad: 48\n",
            "¡Hola, patto, tienes 48 años!\n"
          ]
        }
      ]
    },
    {
      "cell_type": "code",
      "source": [
        "nombre = input('Ingrese su nombre: ')\n",
        "edad = int(input('Ingrese su edad: '))\n",
        "altura = float(input('Ingrese su altura: '))\n",
        "print(f'¡Hola, {nombre}, tienes {edad} años y mides {altura} metros!')"
      ],
      "metadata": {
        "colab": {
          "base_uri": "https://localhost:8080/"
        },
        "id": "Yds243wGMQCg",
        "outputId": "6f5be2dd-ab6f-4fff-9fde-faa8010900b6"
      },
      "execution_count": null,
      "outputs": [
        {
          "output_type": "stream",
          "name": "stdout",
          "text": [
            "Ingrese su nombre: po´po´po\n",
            "Ingrese su edad: 48\n",
            "Ingrese su altura: 1.55\n",
            "¡Hola, po´po´po, tienes 48 años y mides 1.55 metros!\n"
          ]
        }
      ]
    },
    {
      "cell_type": "code",
      "source": [
        "a = int(input('Ingrese el primer valor: '))\n",
        "b = int(input('Ingrese el segundo valor: '))\n",
        "print(a + b)"
      ],
      "metadata": {
        "colab": {
          "base_uri": "https://localhost:8080/"
        },
        "id": "H2GXAoVrMmC5",
        "outputId": "62914e23-e6d3-4a41-e1aa-34d456921995"
      },
      "execution_count": null,
      "outputs": [
        {
          "output_type": "stream",
          "name": "stdout",
          "text": [
            "Ingrese el primer valor: 8\n",
            "Ingrese el segundo valor: 0\n",
            "8\n"
          ]
        }
      ]
    },
    {
      "cell_type": "code",
      "source": [
        "a = int(input('Ingrese el primer valor: '))\n",
        "b = int(input('Ingrese el segundo valor: '))\n",
        "c = int(input('Ingrese el tercer valor: '))\n",
        "print(a + b + c)"
      ],
      "metadata": {
        "colab": {
          "base_uri": "https://localhost:8080/"
        },
        "id": "YuChEt0vMy45",
        "outputId": "a10f6cbc-7266-4e93-9ee7-2aac21bb1545"
      },
      "execution_count": null,
      "outputs": [
        {
          "output_type": "stream",
          "name": "stdout",
          "text": [
            "Ingrese el primer valor: 9\n",
            "Ingrese el segundo valor: 8\n",
            "Ingrese el tercer valor: 7\n",
            "24\n"
          ]
        }
      ]
    },
    {
      "cell_type": "code",
      "source": [
        "a = int(input('Ingrese el primer valor: '))\n",
        "b = int(input('Ingrese el segundo valor: '))\n",
        "print(a - b)\n"
      ],
      "metadata": {
        "colab": {
          "base_uri": "https://localhost:8080/"
        },
        "id": "3e5UGoVSM7Cp",
        "outputId": "1b7f1c42-fea0-4857-c324-a74ce06b3741"
      },
      "execution_count": null,
      "outputs": [
        {
          "output_type": "stream",
          "name": "stdout",
          "text": [
            "Ingrese el primer valor: 3\n",
            "Ingrese el segundo valor: 1\n",
            "2\n"
          ]
        }
      ]
    },
    {
      "cell_type": "code",
      "source": [
        "a = int(input('Ingrese el primer valor: '))\n",
        "b = int(input('Ingrese el segundo valor: '))\n",
        "print(a * b)"
      ],
      "metadata": {
        "colab": {
          "base_uri": "https://localhost:8080/"
        },
        "id": "n5BVNxBxNBlx",
        "outputId": "bae990b5-ab49-4a04-ed0e-e13515ff4997"
      },
      "execution_count": null,
      "outputs": [
        {
          "output_type": "stream",
          "name": "stdout",
          "text": [
            "Ingrese el primer valor: 6\n",
            "Ingrese el segundo valor: 8\n",
            "48\n"
          ]
        }
      ]
    },
    {
      "cell_type": "code",
      "source": [
        "numerador = int(input('Ingrese el numerador: '))\n",
        "denominador = int(input('Ingrese el denominador (OBS: el valor no puede ser nulo): '))\n",
        "print(numerador / denominador)"
      ],
      "metadata": {
        "colab": {
          "base_uri": "https://localhost:8080/"
        },
        "id": "E8y5d0WnNNMJ",
        "outputId": "afacf5a2-be71-4a59-fe98-e39e8937a571"
      },
      "execution_count": null,
      "outputs": [
        {
          "output_type": "stream",
          "name": "stdout",
          "text": [
            "Ingrese el numerador: 4\n",
            "Ingrese el denominador (OBS: el valor no puede ser nulo): 2\n",
            "2.0\n"
          ]
        }
      ]
    },
    {
      "cell_type": "code",
      "source": [
        "operador = int(input('Ingrese el valor del operador: '))\n",
        "potencia = int(input('Ingrese el valor de la potencia: '))\n",
        "print(operador ** potencia)"
      ],
      "metadata": {
        "colab": {
          "base_uri": "https://localhost:8080/"
        },
        "id": "-fadvjUANUfZ",
        "outputId": "3cea5491-bfdc-4e14-e58d-ac54d4c4ec61"
      },
      "execution_count": null,
      "outputs": [
        {
          "output_type": "stream",
          "name": "stdout",
          "text": [
            "Ingrese el valor del operador: 5\n",
            "Ingrese el valor de la potencia: 3\n",
            "125\n"
          ]
        }
      ]
    },
    {
      "cell_type": "code",
      "source": [
        "numerador = int(input('Ingrese el numerador: '))\n",
        "denominador = int(input('Ingrese el denominador (OBS: el valor no puede ser nulo): '))\n",
        "print(numerador // denominador)\n"
      ],
      "metadata": {
        "colab": {
          "base_uri": "https://localhost:8080/"
        },
        "id": "XZohmDG5NXzB",
        "outputId": "5cec8e16-ec3e-464c-fcfa-a55a766b76d9"
      },
      "execution_count": null,
      "outputs": [
        {
          "output_type": "stream",
          "name": "stdout",
          "text": [
            "Ingrese el numerador: 5\n",
            "Ingrese el denominador (OBS: el valor no puede ser nulo): 3\n",
            "1\n"
          ]
        }
      ]
    },
    {
      "cell_type": "code",
      "source": [
        "numerador = int(input('Ingrese el numerador: '))\n",
        "denominador = int(input('Ingrese el denominador (OBS: el valor no puede ser nulo): '))\n",
        "print(numerador % denominador)"
      ],
      "metadata": {
        "id": "wP3LjLGyNuMJ"
      },
      "execution_count": null,
      "outputs": []
    },
    {
      "cell_type": "code",
      "source": [
        "nota_1 = float(input('Ingrese la 1° nota: '))\n",
        "nota_2 = float(input('Ingrese la 2° nota: '))\n",
        "nota_3 = float(input('Ingrese la 3° nota: '))\n",
        "print(f'Media {(nota_1+nota_2+nota_3)/3}.')"
      ],
      "metadata": {
        "id": "N2ZDCAXfNyGx"
      },
      "execution_count": null,
      "outputs": []
    },
    {
      "cell_type": "code",
      "source": [
        "media_ponderada = (5*1 + 12*2 + 20*3 + 15*4) / (1+2+3+4)\n",
        "print(f'Media {media_ponderada}.')"
      ],
      "metadata": {
        "id": "AFEUVmtRN4IZ"
      },
      "execution_count": null,
      "outputs": []
    },
    {
      "cell_type": "code",
      "source": [
        "frase = '¡Hola Python!'\n",
        "print(frase)"
      ],
      "metadata": {
        "colab": {
          "base_uri": "https://localhost:8080/"
        },
        "id": "qIlTTZ4oN9Vh",
        "outputId": "07aac375-4435-47a3-97e8-1cb625888498"
      },
      "execution_count": null,
      "outputs": [
        {
          "output_type": "stream",
          "name": "stdout",
          "text": [
            "¡Hola Python!\n"
          ]
        }
      ]
    },
    {
      "cell_type": "code",
      "source": [
        "frase = input('Escribe una frase: ')\n",
        "print(frase)"
      ],
      "metadata": {
        "colab": {
          "base_uri": "https://localhost:8080/"
        },
        "id": "w671GgvmOGW5",
        "outputId": "153966b6-1c9a-4d7b-e78f-327727a97b0e"
      },
      "execution_count": null,
      "outputs": [
        {
          "output_type": "stream",
          "name": "stdout",
          "text": [
            "Escribe una frase: ccccc bvnbmnbm\n",
            "ccccc bvnbmnbm\n"
          ]
        }
      ]
    },
    {
      "cell_type": "code",
      "source": [
        "frase = input('Escribe una frase: ')\n",
        "print(frase.upper())"
      ],
      "metadata": {
        "colab": {
          "base_uri": "https://localhost:8080/"
        },
        "id": "bfRmAba0OM7J",
        "outputId": "659121a9-1539-4c58-926a-b40504cebcff"
      },
      "execution_count": null,
      "outputs": [
        {
          "output_type": "stream",
          "name": "stdout",
          "text": [
            "Escribe una frase: yuyjkyuiuo\n",
            "YUYJKYUIUO\n"
          ]
        }
      ]
    },
    {
      "cell_type": "code",
      "source": [
        "frase = input('Escribe una frase: ')\n",
        "print(frase.lower())"
      ],
      "metadata": {
        "colab": {
          "base_uri": "https://localhost:8080/"
        },
        "id": "ZmQYDDH3OQXx",
        "outputId": "95f1e07c-4c88-4899-8e4a-ed512c3efa73"
      },
      "execution_count": null,
      "outputs": [
        {
          "output_type": "stream",
          "name": "stdout",
          "text": [
            "Escribe una frase: TTTTT\n",
            "ttttt\n"
          ]
        }
      ]
    },
    {
      "cell_type": "code",
      "source": [
        "frase = ' ¡Hola Python! '\n",
        "print(frase.strip())\n",
        "#podemos eliminar estos espacios utilizando el método strip y mostrar el resultado en un comando print"
      ],
      "metadata": {
        "colab": {
          "base_uri": "https://localhost:8080/"
        },
        "id": "moCZXN3OOcRS",
        "outputId": "685234c0-08d1-4f2b-e6e3-4c1601cbf4de"
      },
      "execution_count": null,
      "outputs": [
        {
          "output_type": "stream",
          "name": "stdout",
          "text": [
            "¡Hola Python!\n"
          ]
        }
      ]
    },
    {
      "cell_type": "code",
      "source": [
        "frase = input('Escribe una frase: ')\n",
        "print(frase.strip())"
      ],
      "metadata": {
        "colab": {
          "base_uri": "https://localhost:8080/"
        },
        "id": "A1gW-pVVO_wx",
        "outputId": "ebb263ba-d047-4af9-bf25-938f4a6839e9"
      },
      "execution_count": null,
      "outputs": [
        {
          "output_type": "stream",
          "name": "stdout",
          "text": [
            "Escribe una frase:                                  fgfhfghjgj\n",
            "fgfhfghjgj\n"
          ]
        }
      ]
    },
    {
      "cell_type": "code",
      "source": [
        "frase = input('Escribe una frase: ')\n",
        "print(frase.strip().lower())\n",
        "#Recopilamos una frase utilizando la función input, incluso si no estamos seguros de si tendrá espacios al principio y al final de la frase. Luego, eliminamos estos espacios\n",
        "#utilizando el método strip y también usamos el método lower junto con strip. El resultado se puede mostrar en un comando print."
      ],
      "metadata": {
        "colab": {
          "base_uri": "https://localhost:8080/"
        },
        "id": "N-X35rVtPAuR",
        "outputId": "1525be4b-46d1-4121-a240-ef2e5b66ef0c"
      },
      "execution_count": null,
      "outputs": [
        {
          "output_type": "stream",
          "name": "stdout",
          "text": [
            "Escribe una frase: dgffdgfh\n",
            "dgffdgfh\n"
          ]
        }
      ]
    },
    {
      "cell_type": "code",
      "source": [
        "#Recopilamos una frase utilizando la función input. Para asegurarnos de que los caracteres no estén en mayúsculas, convertimos toda la frase a minúsculas\n",
        "#utilizando el método lower y luego aplicamos el método replace, definiendo el valor a reemplazar como 'e' y el nuevo valor como 'f'. El resultado se muestra en un comando print.\n",
        "frase = input('Escribe una frase: ')\n",
        "print(frase.lower().replace('e','f'))"
      ],
      "metadata": {
        "colab": {
          "base_uri": "https://localhost:8080/"
        },
        "id": "OWIeP7EVPQn4",
        "outputId": "82f3681e-33ad-4140-ac85-529a8925ca3f"
      },
      "execution_count": null,
      "outputs": [
        {
          "output_type": "stream",
          "name": "stdout",
          "text": [
            "Escribe una frase: ceref\n",
            "cfrff\n"
          ]
        }
      ]
    },
    {
      "cell_type": "code",
      "source": [
        "#Recopilamos una frase utilizando la función input. Para asegurarnos de que los caracteres no estén en mayúsculas, convertimos toda la frase a minúsculas utilizando el método\n",
        "#lower y luego aplicamos el método replace, definiendo el valor a reemplazar como 'a' y el nuevo valor como el carácter 64 según la tabla Unicode, que corresponde al carácter @.\n",
        "#El resultado se muestra en un comando print.\n",
        "\n",
        "frase = input('Escribe una frase: ')\n",
        "print(frase.lower().replace('a',chr(64)))"
      ],
      "metadata": {
        "colab": {
          "base_uri": "https://localhost:8080/"
        },
        "id": "VPItn7n8QLpR",
        "outputId": "7666052e-1e29-4d63-9b03-c66dd4d578fa"
      },
      "execution_count": null,
      "outputs": [
        {
          "output_type": "stream",
          "name": "stdout",
          "text": [
            "Escribe una frase: caracas\n",
            "c@r@c@s\n"
          ]
        }
      ]
    },
    {
      "cell_type": "code",
      "source": [
        "#Recopilamos una frase utilizando la función input. Para asegurarnos de que los caracteres no estén en mayúsculas, convertimos toda la frase a minúsculas utilizando el método\n",
        "#lower y luego aplicamos el método replace, definiendo el valor a reemplazar como 's' y el nuevo valor como el carácter 36 según la tabla Unicode, que corresponde al símbolo $.\n",
        "#El resultado se muestra en un comando print.\n",
        "\n",
        "frase = input('Escribe una frase: ')\n",
        "print(frase.lower().replace('s',chr(36)))"
      ],
      "metadata": {
        "colab": {
          "base_uri": "https://localhost:8080/"
        },
        "id": "IZm3B-VqQQ3J",
        "outputId": "d6ec21f7-5ab5-4e8f-8563-69b466be96d9"
      },
      "execution_count": null,
      "outputs": [
        {
          "output_type": "stream",
          "name": "stdout",
          "text": [
            "Escribe una frase: fgfhhgjjhgsssssssssssssssssssssss\n",
            "fgfhhgjjhg$$$$$$$$$$$$$$$$$$$$$$$\n"
          ]
        }
      ]
    },
    {
      "cell_type": "code",
      "source": [
        "texto = '''\n",
        "a\n",
        "t\n",
        "d\n",
        "f\n",
        "g\n",
        "h\n",
        "'''\n",
        "\n",
        "print(texto)\n"
      ],
      "metadata": {
        "id": "PHh1GYitQndZ",
        "colab": {
          "base_uri": "https://localhost:8080/"
        },
        "outputId": "6965cd9d-2b3a-4ef9-e622-6af77406e5a8"
      },
      "execution_count": 6,
      "outputs": [
        {
          "output_type": "stream",
          "name": "stdout",
          "text": [
            "\n",
            "a\n",
            "t\n",
            "d\n",
            "f\n",
            "g\n",
            "h \n",
            "\n"
          ]
        }
      ]
    },
    {
      "cell_type": "code",
      "source": [],
      "metadata": {
        "id": "-2aiPtJkxRkP"
      },
      "execution_count": null,
      "outputs": []
    }
  ]
}